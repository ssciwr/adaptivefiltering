{
 "cells": [
  {
   "cell_type": "markdown",
   "id": "911f20e6",
   "metadata": {},
   "source": [
    "## Introduction to Python + Jupyter\n",
    "\n",
    "This notebook explains some fundamentals of the Python programming language and of Jupyter notebooks. It is intended for audiences without programming backgrounds that still would like to work with the AFwizard library. It is by no means a good introduction into programming with Python or Jupyter itself, as it only explains those parts necessary to work with AFwizard."
   ]
  },
  {
   "cell_type": "markdown",
   "id": "20980eb6",
   "metadata": {},
   "source": [
    "### Python - an interpreted language\n",
    "\n",
    "Python is an *interpreted* language: A program - the *Python interpreter*  takes a piece of source code and executes (or *interprets*) it line by line. This is different from *compiled* languages, where the source code is translated into an executable program before running. In a normal setting, one would often invoke the Python interpreter manually with a `.py` file to interpret that Python file's content."
   ]
  },
  {
   "cell_type": "markdown",
   "id": "43a1be8c",
   "metadata": {},
   "source": [
    "### What is a Jupyter notebook?\n",
    "\n",
    "Jupyter Notebooks are a way of organizing Python code such that it can be easily combined with documentation, visualization and user interface controls. Jupyter notebooks are stored as `.ipynb` files and they are displayed in a web browser using an interactive frontend such as *JupyterLab*. You are currently looking at a Jupyter Notebook. "
   ]
  },
  {
   "cell_type": "markdown",
   "id": "4af52133",
   "metadata": {},
   "source": [
    "### How to use a Jupyter notebook?\n",
    "\n",
    "Jupyter notebooks are organized as *cells*. So far, all cells contained documentation (in the Markdown format) that was automatically rendered in the web frontend. The following cell, however is our first code cell:"
   ]
  },
  {
   "cell_type": "code",
   "execution_count": null,
   "id": "b58a2b9b",
   "metadata": {},
   "outputs": [],
   "source": [
    "print(\"Hello World\")"
   ]
  },
  {
   "cell_type": "markdown",
   "id": "3858498f",
   "metadata": {},
   "source": [
    "In order to execute the Python code in the cell, we click the cell (so that it becomes the currently active cell) and press `Shift+Enter`. Try it with above cell! When doing so, Jupyter will send the code in the cell to the Python interpreter, which will execute it and send any results back to Jupyter which may then display that information to us in the web interface. We can repeat this process with other code cells. Note that we do not necessarily have to execute code cells in a Jupyter notebook top to bottom - although it makes sense most of the time."
   ]
  },
  {
   "cell_type": "markdown",
   "id": "c25da638",
   "metadata": {},
   "source": [
    "### Importing Python libraries\n",
    "\n",
    "Most of the time, developers do not write Python code from scratch, but build on existing Python libraries. Libraries are Python code that is bundled for reuse in other projects. Libraries are either released as part of the Python [standard library](https://docs.python.org/3/library/) or provided by third parties e.g. through the Python Package Index [PyPI](https://pypi.org/). If installed, a library is *imported* into a Python project using the `import` statement. We will typically import the `adaptivefiltering` library at the beginning of our notebooks:"
   ]
  },
  {
   "cell_type": "code",
   "execution_count": null,
   "id": "debe0fd4",
   "metadata": {},
   "outputs": [],
   "source": [
    "import afwizard"
   ]
  },
  {
   "cell_type": "markdown",
   "id": "e8e7d64b",
   "metadata": {},
   "source": [
    "Having done so allows us to access any functions or classes that library provides, like e.g. print the version of the `adaptivefiltering` library that we are using:"
   ]
  },
  {
   "cell_type": "code",
   "execution_count": null,
   "id": "5c2ff537",
   "metadata": {},
   "outputs": [],
   "source": [
    "afwizard.print_version()"
   ]
  },
  {
   "cell_type": "markdown",
   "id": "ea6d4d7c-8484-4afd-984e-c61331fe2059",
   "metadata": {},
   "source": [
    "### Python variables, functions and classes\n",
    "\n",
    "TODO: Continue"
   ]
  },
  {
   "cell_type": "markdown",
   "id": "b22f5bbf-84de-420f-9c01-516bc46d00b8",
   "metadata": {},
   "source": [
    "### Troubleshooting\n",
    "\n",
    "The above should give you enough knowledge to continue by looking at the other notebooks to learn about AFwizard's capabilities. If you experience problems, here is a few things that might be helpful:\n",
    "\n",
    "* Try restarting the kernel (e.g. using the *Kernel* menu tab) and rerun your notebook\n",
    "* Check the [API documentation of `afwizard`](https://afwizard.readthedocs.io/en/latest/index.html#document-user_API) or the demonstrator notebooks if you are providing the correct arguments to your function calls.\n",
    "* Open an issue at our [GitHub issue tracker](https://github.com/ssciwr/afwizard/issues)"
   ]
  }
 ],
 "metadata": {
  "kernelspec": {
   "display_name": "Python 3",
   "language": "python",
   "name": "python3"
  },
  "language_info": {
   "codemirror_mode": {
    "name": "ipython",
    "version": 3
   },
   "file_extension": ".py",
   "mimetype": "text/x-python",
   "name": "python",
   "nbconvert_exporter": "python",
   "pygments_lexer": "ipython3",
   "version": "3.9.10"
  }
 },
 "nbformat": 4,
 "nbformat_minor": 5
}
