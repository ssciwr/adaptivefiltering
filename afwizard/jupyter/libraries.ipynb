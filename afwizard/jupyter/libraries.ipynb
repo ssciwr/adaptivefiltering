{
 "cells": [
  {
   "cell_type": "markdown",
   "id": "0",
   "metadata": {},
   "source": [
    "## Working with filter libraries"
   ]
  },
  {
   "cell_type": "code",
   "execution_count": null,
   "id": "1",
   "metadata": {},
   "outputs": [],
   "source": [
    "import afwizard"
   ]
  },
  {
   "cell_type": "markdown",
   "id": "2",
   "metadata": {},
   "source": [
    "AFWizard stores filter pipelines in `.json` files for later reuse. JSON stands for *JavaScript Object Notation* and is a widely used format for storing custom data structures. We will see in [Creating filter pipelines](filtering.ipynb) how these files are created from scratch. Now, we will learn how to use these files. This will enable you to leverage a library of community-contributed filter pipelines and allow you to organize your filter pipelines locally."
   ]
  },
  {
   "cell_type": "markdown",
   "id": "3",
   "metadata": {},
   "source": [
    "### Adding filter libraries"
   ]
  },
  {
   "cell_type": "markdown",
   "id": "4",
   "metadata": {},
   "source": [
    "Filter libraries are directories that contain a number of `.json` files that contain filter pipeline definitions. AFwizard internally keeps a per-session list of known filter libraries which by default contains the current working directory and the path to the [library of community-contributed filters](https://github.com/ssciwr/adaptivefiltering-library/), which has been installed as a separate Python package. We can manually register directories as filter libraries like this:"
   ]
  },
  {
   "cell_type": "code",
   "execution_count": null,
   "id": "5",
   "metadata": {},
   "outputs": [],
   "source": [
    "afwizard.add_filter_library(path=\"/home/user/somepath\", recursive=False)"
   ]
  },
  {
   "cell_type": "markdown",
   "id": "6",
   "metadata": {},
   "source": [
    "The `recursive` parameter specifies whether filter pipelines in subdirectories of the given directory should also be taken into account (defaults to `False`)."
   ]
  },
  {
   "cell_type": "markdown",
   "id": "7",
   "metadata": {},
   "source": [
    "### Browsing filters in filter libraries"
   ]
  },
  {
   "cell_type": "markdown",
   "id": "8",
   "metadata": {},
   "source": [
    "We can search our filter libraries for filter pipelines matching certain criteria by using the `select_pipeline_from_library` and `select_pipelines_from_library` functions. The former will allow you to select exactly one pipeline, where as the latter allows you to select multiple pipelines by holding `CTRL` pressed while clicking on the filters. Clicking the *Finalize* button will make the user interface vanish, but you can also use the returned `pipeline` object before that:"
   ]
  },
  {
   "cell_type": "code",
   "execution_count": null,
   "id": "9",
   "metadata": {},
   "outputs": [],
   "source": [
    "pipeline = afwizard.select_pipeline_from_library()"
   ]
  },
  {
   "cell_type": "markdown",
   "id": "10",
   "metadata": {},
   "source": [
    "In the left most column, we see filtering criterions we can use to access the filter pipelines in our filtering libraries. The middle column contains a list of filter pipelines that match the given criteria. Clicking one of these will select it and show its metadata in the third column. The returned `pipeline` object can then be passed to other functions from AFwizard, e.g. to [select the best filter pipeline for a given dataset](selection.ipynb)."
   ]
  },
  {
   "cell_type": "markdown",
   "id": "11",
   "metadata": {},
   "source": [
    "### Proprietary filtering backends"
   ]
  },
  {
   "cell_type": "markdown",
   "id": "12",
   "metadata": {},
   "source": [
    "AFwizard does not implement its own ground point filtering algorithms. Instead, algorithms from existing packages are accessible through a common interface. Currently, the following backends are available:\n",
    "\n",
    "* [PDAL](https://pdal.io/): The Point Data Abstraction Library is an open source library for point cloud processing.\n",
    "* [OPALS](https://opals.geo.tuwien.ac.at/html/stable/index.html) is a proprietary library for processing Lidar data. It can be tested freely for datasets <1M points.\n",
    "* [LASTools](https://rapidlasso.com/) has a proprietary tool called `lasground_new` that can be used for ground point filtering.\n",
    "\n",
    "PDAL is always available when using AFwizard and is used internally for many tasks that are not directly related to ground point filtering. In order to enable the OPALS backend, AFwizard needs to be given the information where your OPALS installation (potentially including your license key) is located. This can either be done by setting the environment variable `OPALS_DIR` or by setting the path at runtime:"
   ]
  },
  {
   "cell_type": "code",
   "execution_count": null,
   "id": "13",
   "metadata": {
    "tags": [
     "nbval-skip"
    ]
   },
   "outputs": [],
   "source": [
    "?afwizard.set_opals_directory"
   ]
  },
  {
   "cell_type": "markdown",
   "id": "14",
   "metadata": {},
   "source": [
    "Similarly, you can set the path to your installation of LASTools either through the environment variable `LASTOOLS_DIR` or at runtime:"
   ]
  },
  {
   "cell_type": "code",
   "execution_count": null,
   "id": "15",
   "metadata": {
    "tags": [
     "nbval-skip"
    ]
   },
   "outputs": [],
   "source": [
    "?afwizard.set_lastools_directory"
   ]
  },
  {
   "cell_type": "markdown",
   "id": "16",
   "metadata": {},
   "source": [
    "Please note that LASTools only ships Windows binaries. Therefore, you will need [Wine](https://www.winehq.org/) installed on your system to successfully use the LASTools backend on Linux."
   ]
  },
  {
   "cell_type": "markdown",
   "id": "17",
   "metadata": {},
   "source": [
    "### Creating new filter libraries"
   ]
  },
  {
   "cell_type": "markdown",
   "id": "18",
   "metadata": {},
   "source": [
    "As filter libraries are just directories on the file system, you are free to organizing them yourself by moving and copying files and then making the respective directories known to AFwizard using `add_filter_library` as seen above. However, there is also additional functionality available that eases the management process. If you are editing filter pipelines a lot, you might want to set the current library path like this:"
   ]
  },
  {
   "cell_type": "code",
   "execution_count": null,
   "id": "19",
   "metadata": {},
   "outputs": [],
   "source": [
    "afwizard.set_current_filter_library(\n",
    "    \"mylibrary\", create_dirs=True, name=\"My testing library\"\n",
    ")"
   ]
  },
  {
   "cell_type": "markdown",
   "id": "20",
   "metadata": {},
   "source": [
    "The library defined by `set_current_filter_library` will be used as the default path to store filter pipelines using [save_filter](filtering.ipynb) or [select_best_pipeline](selection.ipynb). Here, the `name` parameter is used to define a display name for the filter library. It is stored in JSON file called `library.json` in the directory. Such file could also be added manually to filter library directories. If you do not want to generate `library.json` or do not want to override an existing one, you may set `name=None`."
   ]
  },
  {
   "cell_type": "markdown",
   "id": "21",
   "metadata": {},
   "source": [
    "### Sharing filter pipelines with others"
   ]
  },
  {
   "cell_type": "markdown",
   "id": "22",
   "metadata": {},
   "source": [
    "As each filter pipeline is stored as a separate file, filter pipelines can be shared easily by sharing these files via your favorite method. If you want to share your filter pipeline with a wider community, you should consider contributing it to AFwizard's community contribution library. This will make your filter pipeline accessible to all users of AFwizard. You can find the details of the process [on GitHub](https://github.com/ssciwr/afwizard-library/issues/3)."
   ]
  },
  {
   "cell_type": "markdown",
   "id": "23",
   "metadata": {},
   "source": [
    "### Resetting filter libraries"
   ]
  },
  {
   "cell_type": "markdown",
   "id": "24",
   "metadata": {},
   "source": [
    "If, for some reason, you want to reset the currently registered filter libraries to the default ones, you can do so like this:"
   ]
  },
  {
   "cell_type": "code",
   "execution_count": null,
   "id": "25",
   "metadata": {},
   "outputs": [],
   "source": [
    "afwizard.reset_filter_libraries()"
   ]
  }
 ],
 "metadata": {
  "kernelspec": {
   "display_name": "Python 3 (ipykernel)",
   "language": "python",
   "name": "python3"
  },
  "language_info": {
   "codemirror_mode": {
    "name": "ipython",
    "version": 3
   },
   "file_extension": ".py",
   "mimetype": "text/x-python",
   "name": "python",
   "nbconvert_exporter": "python",
   "pygments_lexer": "ipython3",
   "version": "3.11.3"
  }
 },
 "nbformat": 4,
 "nbformat_minor": 5
}
