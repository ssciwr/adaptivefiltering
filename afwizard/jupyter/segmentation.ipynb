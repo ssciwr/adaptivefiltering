{
 "cells": [
  {
   "cell_type": "markdown",
   "id": "0",
   "metadata": {},
   "source": [
    "*The dataset used in this example notebook is from the Nakadake Sanroku Kiln Site Center in Japan. The data set is provided by Shinoto et al. under\n",
    " the [CC-BY-4.0](https://creativecommons.org/licenses/by/4.0/) license: [DOI](https://doi.org/10.11588/data/TJNQZG)*"
   ]
  },
  {
   "cell_type": "markdown",
   "id": "1",
   "metadata": {},
   "source": [
    "## Mapping segmentations to filter pipelines"
   ]
  },
  {
   "cell_type": "markdown",
   "id": "2",
   "metadata": {},
   "source": [
    "When talking about *adaptive* ground point filtering in AFwizard we have two types of adaptivity in mind: Parameter adaptivity and spatial adaptivity. This notebook describes the details of how spatial adaptivity is implemented in AFwizard. It assumes that you have already created a suitable segmentation of your dataset into spatial features (e.g. in a GIS). We will then see how we can attach filter pipeline information to that segmentation file."
   ]
  },
  {
   "cell_type": "code",
   "execution_count": null,
   "id": "3",
   "metadata": {},
   "outputs": [],
   "source": [
    "import afwizard"
   ]
  },
  {
   "cell_type": "markdown",
   "id": "4",
   "metadata": {},
   "source": [
    "We again work on our demonstrator dataset:"
   ]
  },
  {
   "cell_type": "code",
   "execution_count": null,
   "id": "5",
   "metadata": {},
   "outputs": [],
   "source": [
    "ds = afwizard.DataSet(filename=\"nkd_pcl_epsg6670.laz\", spatial_reference=\"EPSG:6670\")"
   ]
  },
  {
   "cell_type": "markdown",
   "id": "6",
   "metadata": {},
   "source": [
    "Next, we import the segmentation the GeoJSON file. It is assumed to contain a `FeatureCollection` in the sense of the GeoJSON standard where each features combines the geometric information of the segment (`Polygon` or `Multipolygon`) and a number of properties. One of these properties should contain your custom classification of the segments into classes."
   ]
  },
  {
   "cell_type": "code",
   "execution_count": null,
   "id": "7",
   "metadata": {},
   "outputs": [],
   "source": [
    "segmentation = afwizard.load_segmentation(\n",
    "    \"nkd_sgm_assigned_TF.geojson\", spatial_reference=\"EPSG:6670\"\n",
    ")"
   ]
  },
  {
   "cell_type": "markdown",
   "id": "8",
   "metadata": {},
   "source": [
    "As we are trying to map features to filter pipelines, we also need to load some filter pipelines. Here, we are directly opening these using `load_filter`. In practice, these should be selected from available filter libraries using e.g. the tools described in [Working with filter libraries](libraries.ipynb)."
   ]
  },
  {
   "cell_type": "code",
   "execution_count": null,
   "id": "9",
   "metadata": {},
   "outputs": [],
   "source": [
    "pipelines = [\n",
    "    afwizard.load_filter(\"nkd_fpl_paddy_LT.json\"),\n",
    "    afwizard.load_filter(\"nkd_fpl_slope_LT.json\"),\n",
    "    afwizard.load_filter(\"nkd_fpl_valley_TF.json\"),\n",
    "]"
   ]
  },
  {
   "cell_type": "markdown",
   "id": "10",
   "metadata": {},
   "source": [
    "The core task of assigning filter piplines is done by the `assign_pipeline` function which allows us to interactively set filter pipelines. On the right hand side, we can choose which property of our GeoJSON file contains the classification information. A feature can be highlighted on the map by clicking the <i class=\"fas fa-map-marker-alt\"></i> button. For each class of segments, a pipeline can be selected from the dropdown menu:"
   ]
  },
  {
   "cell_type": "code",
   "execution_count": null,
   "id": "11",
   "metadata": {
    "tags": []
   },
   "outputs": [],
   "source": [
    "assigned_segmentation = afwizard.assign_pipeline(\n",
    "    ds, segmentation=segmentation, pipelines=pipelines\n",
    ")"
   ]
  },
  {
   "cell_type": "markdown",
   "id": "12",
   "metadata": {},
   "source": [
    "Once the pipelines are assigned, the returned segmentation object has a new property called \"pipeline\" that will direct the adaptivefiltering command line interface to the corresponding filter pipeline file. The modified file can be saved to disk by using the `save` method:"
   ]
  },
  {
   "cell_type": "code",
   "execution_count": null,
   "id": "13",
   "metadata": {},
   "outputs": [],
   "source": [
    "assigned_segmentation.save(\"assigned_segmentation.geojson\")"
   ]
  },
  {
   "cell_type": "markdown",
   "id": "14",
   "metadata": {},
   "source": [
    "It is worth noting that `afwizard` does not store the entire filter configuration in the GeoJSON object. This is done to allow further refinement of the used filter pipelines after the segmentation is created. Also, it does not store absolute or relative paths to your filter pipelines, because these could always change when moving to new hardware or when reorganizing your project. Instead it stores the metadata of your filter (in hashed form) and compares it against the metadata of the filter pipelines in your currently loaded filter libraries. If metadata is ambiguous across the given filter libraries, an error will be thrown."
   ]
  },
  {
   "cell_type": "code",
   "execution_count": null,
   "id": "15",
   "metadata": {},
   "outputs": [],
   "source": []
  }
 ],
 "metadata": {
  "kernelspec": {
   "display_name": "Python 3 (ipykernel)",
   "language": "python",
   "name": "python3"
  },
  "language_info": {
   "codemirror_mode": {
    "name": "ipython",
    "version": 3
   },
   "file_extension": ".py",
   "mimetype": "text/x-python",
   "name": "python",
   "nbconvert_exporter": "python",
   "pygments_lexer": "ipython3",
   "version": "3.11.3"
  }
 },
 "nbformat": 4,
 "nbformat_minor": 5
}
