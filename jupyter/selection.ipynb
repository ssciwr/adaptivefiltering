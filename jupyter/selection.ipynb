{
 "cells": [
  {
   "cell_type": "markdown",
   "id": "3dff2b6e-0c50-4b2f-bbed-65b37b4e35b0",
   "metadata": {},
   "source": [
    "*The dataset used in this example is copyrighted by West Coast Regional Council, LINZ (2021) and distributed by [OpenTopography](https://opentopography.org) under the [CC-BY-4.0](https://creativecommons.org/licenses/by/4.0/) license. [DOI](https://doi.org/10.5069/G9Z31WV0)*"
   ]
  },
  {
   "cell_type": "markdown",
   "id": "59cb134c-b2ed-4c28-bcf4-56413862faf7",
   "metadata": {},
   "source": [
    "## Selecting a filter pipeline for a dataset"
   ]
  },
  {
   "cell_type": "code",
   "execution_count": null,
   "id": "a19ee29e-13d9-43d5-b3b9-fcb5c540038a",
   "metadata": {},
   "outputs": [],
   "source": [
    "import afwizard"
   ]
  },
  {
   "cell_type": "markdown",
   "id": "c96ae6ba-6a98-426a-b2a6-43faa9f951a9",
   "metadata": {},
   "source": [
    "The goal of this notebook is to find the best fitting filter pipeline for a given dataset (or rather a suitably copped subset there of). If you want to manually create the filter pipeline from scratch, you should read the [notebook on pipeline creation](filtering.ipynb) instead. Here, we assume that we want to leverage existing, community-contributed filter pipelines. In a first step, we select a number of filter pipeline candidates from filter libraries. Details about how to register additional filter libraries, can be found in the [notebook on filter libraries](libraries.ipynb). We use the `select_pipelines_from_library` function, which allows us to select any number of filter by keeping `CTRL` pressed while clicking additional filters. In the left most column, we see filtering criterions we can use to access the filter pipelines in our filtering libraries. The middle column contains a list of filter pipelines that match the given criteria. Clicking one of these will select it and show its metadata in the third column. Multiple filters can be selected by keeping `CTRL` pressed while clicking additional filters."
   ]
  },
  {
   "cell_type": "code",
   "execution_count": null,
   "id": "3fef3a3f-ba8c-41da-bd5a-f4ba9cb52b13",
   "metadata": {},
   "outputs": [],
   "source": [
    "pipelines = afwizard.select_pipelines_from_library()"
   ]
  },
  {
   "cell_type": "markdown",
   "id": "2c0d7c1d-f2ba-4154-ab63-483bc265f820",
   "metadata": {},
   "source": [
    "Next thing to do is to load a dataset as described in [Working with datasets](datasets.ipynb). Again, it is best to restrict the sample size to a reasonable size (e.g. by using the `restrict` method on the dataset) to allow a truely interactive exploration process."
   ]
  },
  {
   "cell_type": "code",
   "execution_count": null,
   "id": "99a31c5b-f27e-4c28-8aa9-1f13fc57ded6",
   "metadata": {},
   "outputs": [],
   "source": [
    "dataset = afwizard.DataSet(\n",
    "    filename=\"500k_NZ20_Westport.laz\", spatial_reference=\"EPSG:2193\"\n",
    ")"
   ]
  },
  {
   "cell_type": "markdown",
   "id": "b83f50d3-b69d-4ce7-9d14-683c02c635a9",
   "metadata": {},
   "source": [
    "We can then create a comparison of ground point filtering results with the goal of choosing the most fitting pipeline. Each tab shows the filtering results of one of the selected pipelines. In the left column, we can fine tune visualization and rasterization options while on the right hand side, we can fine tune the filter. The configuration options shown here have been introduced by the author of the filter pipeline for you to fine tune the results:"
   ]
  },
  {
   "cell_type": "code",
   "execution_count": null,
   "id": "bf9ada7c-fdff-4d64-9769-58ce3c1f197e",
   "metadata": {},
   "outputs": [],
   "source": [
    "best = afwizard.select_best_pipeline(dataset, pipelines=pipelines)"
   ]
  },
  {
   "cell_type": "markdown",
   "id": "5853ac1e-71e3-42c2-a5d4-269654f6665d",
   "metadata": {},
   "source": [
    "The newly create filter pipeline object `best` has the end user configuration specified in the right column baked into the filter. This means that the resulting filter is to some extent a dataset-specific specialization of the general purpose filter pipeline. To distinguish such specialized filter from more general ones, it is useful to save it into a separate filtering library as outlined in the [notebook on filtering libraries](libraries.ipynb), e.g. by using `set_current_filter_library` to set up a filtering library for your current project before saving any filters:"
   ]
  },
  {
   "cell_type": "code",
   "execution_count": null,
   "id": "d7de82de-ed61-47fc-a0ca-39610b01b290",
   "metadata": {},
   "outputs": [],
   "source": [
    "afwizard.set_current_filter_library(\n",
    "    \"projectx\", create_dirs=True, name=\"Filters for projext X\"\n",
    ")"
   ]
  },
  {
   "cell_type": "code",
   "execution_count": null,
   "id": "03863c1c-94bb-429b-a0b6-0d4840171892",
   "metadata": {},
   "outputs": [],
   "source": [
    "afwizard.save_filter(best, \"bestfilter.json\")"
   ]
  }
 ],
 "metadata": {
  "kernelspec": {
   "display_name": "Python 3",
   "language": "python",
   "name": "python3"
  },
  "language_info": {
   "codemirror_mode": {
    "name": "ipython",
    "version": 3
   },
   "file_extension": ".py",
   "mimetype": "text/x-python",
   "name": "python",
   "nbconvert_exporter": "python",
   "pygments_lexer": "ipython3",
   "version": "3.9.10"
  }
 },
 "nbformat": 4,
 "nbformat_minor": 5
}
