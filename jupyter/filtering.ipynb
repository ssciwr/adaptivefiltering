{
 "cells": [
  {
   "cell_type": "markdown",
   "id": "847bbc48-c14a-4f8d-aedb-389f2ebdde37",
   "metadata": {},
   "source": [
    "*The dataset used in this example is copyrighted by West Coast Regional Council, LINZ (2021) and distributed by [OpenTopography](https://opentopography.org) under the [CC-BY-4.0](https://creativecommons.org/licenses/by/4.0/) license. [DOI](https://doi.org/10.5069/G9Z31WV0)*"
   ]
  },
  {
   "cell_type": "markdown",
   "id": "a757ab54-e828-4e65-b373-f299df705561",
   "metadata": {},
   "source": [
    "## Creating filter pipelines"
   ]
  },
  {
   "cell_type": "code",
   "execution_count": null,
   "id": "dc43d668-e991-4a4c-9b74-68fe4caea542",
   "metadata": {},
   "outputs": [],
   "source": [
    "import afwizard"
   ]
  },
  {
   "cell_type": "markdown",
   "id": "d4b20ed5-296d-44d5-8260-2f44468f081e",
   "metadata": {},
   "source": [
    "This Jupyter notebook explains the workflow of creating a ground point filtering pipeline from scratch. This is an advanced workflow for users that want to define their own filtering workflows. For basic use, try choosing a pre-configured, community-contributed pipeline as described in the [notebook on selecting filter pipelines](selection.ipynb)."
   ]
  },
  {
   "cell_type": "markdown",
   "id": "6a62c72c-c761-4f46-b532-a91664c548e5",
   "metadata": {},
   "source": [
    "For all of below examples, we need to load at least one data set which we will use to interactively preview our filter settings. Note that for a good interactive experience with no downtimes, you should restrict your datasets to a reasonable size (see the [Working with datasets](datasets.ipynb) notebook for how to do it). Loading multiple datasets might be beneficial to avoid overfitting the filtering pipeline to one given dataset."
   ]
  },
  {
   "cell_type": "code",
   "execution_count": null,
   "id": "871ac067-09d8-47fd-afde-f52c8cf75688",
   "metadata": {},
   "outputs": [],
   "source": [
    "dataset = afwizard.DataSet(\n",
    "    filename=\"500k_NZ20_Westport.laz\", spatial_reference=\"EPSG:2193\"\n",
    ")"
   ]
  },
  {
   "cell_type": "markdown",
   "id": "cfd3d013-5aa2-429f-bce4-3ad97f4fa759",
   "metadata": {},
   "source": [
    "### Creating from scratch"
   ]
  },
  {
   "cell_type": "markdown",
   "id": "8c27405c-1b24-414b-ad80-a7bafc26c68a",
   "metadata": {},
   "source": [
    "The main pipeline configuration is done by calling the `pipeline_tuning` function with your dataset as the parameter. This will open the interactive user interface which allows you to tune the filter pipeline itself in the left column and the visualization and rasterization options in the right column. Whenever you hit the *Preview* button, a new tab will be added to the center column. Switching between these tabs allows you to switch between different version of your filter. The return object `pipeline` is updated on the fly until you hit the *Finalize* button to freeze the currently displayed filter."
   ]
  },
  {
   "cell_type": "code",
   "execution_count": null,
   "id": "58282040-2b84-4e89-8634-f5e2d9d35f3c",
   "metadata": {},
   "outputs": [],
   "source": [
    "pipeline = afwizard.pipeline_tuning(dataset)"
   ]
  },
  {
   "cell_type": "markdown",
   "id": "63cdec84-32d5-46af-a02a-d9edfced7a49",
   "metadata": {},
   "source": [
    "If you want to inspect multiple data sets in parallel while tuning a pipeline, you can do so by passing a list of datasets to the `pipeline_tuning` function. Note that AFwizard does currently not parallelize the execution of filter pipeline execution which may have a negative impact on wait times while tuning with multiple parameters. A new tab in the center column will be created for each dataset when clicking *Preview*:"
   ]
  },
  {
   "cell_type": "code",
   "execution_count": null,
   "id": "940f323c-f044-49d9-8537-21ae01fd78e2",
   "metadata": {},
   "outputs": [],
   "source": [
    "pipeline2 = afwizard.pipeline_tuning(datasets=[dataset, dataset])"
   ]
  },
  {
   "cell_type": "markdown",
   "id": "c580d054-5862-428f-93fc-38a60ad8225b",
   "metadata": {
    "tags": []
   },
   "source": [
    "### Storing and reloading filter pipelines"
   ]
  },
  {
   "cell_type": "markdown",
   "id": "40092a0d-1c0f-4d18-922a-e4b63fb7cd8c",
   "metadata": {},
   "source": [
    "Pipeline objects can be stored on disk with the `save_filter` function from AFwizard. The filename passed here, can either be an absolute path or a relative one. Relative paths are interpreted w.r.t. the current working directory unless a current filter library has been declared with `set_current_filter_library`:"
   ]
  },
  {
   "cell_type": "code",
   "execution_count": null,
   "id": "bc883453-05ff-4c03-afa1-182c71e8dfea",
   "metadata": {},
   "outputs": [],
   "source": [
    "afwizard.save_filter(pipeline, \"myfilter.json\")"
   ]
  },
  {
   "cell_type": "markdown",
   "id": "479e7868-d151-4220-b913-0f1a9b63fede",
   "metadata": {},
   "source": [
    "The appropriate counterpart is `load_filter`, which restores the pipeline object from a file. Relative paths are interpreted w.r.t. to the filter libraries known to AFwizard:"
   ]
  },
  {
   "cell_type": "code",
   "execution_count": null,
   "id": "8af307a0-3779-455d-b49b-1fd16ab6facb",
   "metadata": {},
   "outputs": [],
   "source": [
    "old_pipeline = afwizard.load_filter(\"myfilter.json\")"
   ]
  },
  {
   "cell_type": "markdown",
   "id": "48e958d4-87a2-43d6-9bfa-5efcc8836f2f",
   "metadata": {},
   "source": [
    "A filter pipeline loaded from a file can be edited using the `pipeline_tuning` command by passing it to the function. As always, the pipeline object returned by `pipeline_tuning` will be a new object - no implicit changes of the loaded pipeline object will occur:"
   ]
  },
  {
   "cell_type": "code",
   "execution_count": null,
   "id": "b80f5f9c-7926-4b97-b16d-66a91958ccd7",
   "metadata": {},
   "outputs": [],
   "source": [
    "edited_pipeline = afwizard.pipeline_tuning(dataset, pipeline=old_pipeline)"
   ]
  },
  {
   "cell_type": "markdown",
   "id": "1dddf603-1599-49be-8787-9ba81bfa7a2f",
   "metadata": {},
   "source": [
    "### Batch processing in filter creation"
   ]
  },
  {
   "cell_type": "markdown",
   "id": "ab864dd5-3a56-483d-b3b3-ff207a888a74",
   "metadata": {},
   "source": [
    "The `pipeline_tuning` user interface has some additional powerful features that allow you to very quickly explore parameter ranges for filter. You can use this feature by clicking the <i class=\"fas fa-layer-group\"></i> symbol next to a parameter. This will open a flyout where you can specify a range of parameters to generate previews for. Ranges can either be a discrete comma separated list e.g. `1, 2, 3`, a range of parameters like `4:6` or a mixture there of. Ranges are only available for numeric inputs and can be provided an optional increment after a second colon like e.g. `1:5:2`. In the absence of an explicit increment, integer ranges use an increment of `1` and float ranges sample the range with a total of `5` samples points. When clicking *Preview*, batch processing information is resolved and the batch information is discarded."
   ]
  },
  {
   "cell_type": "markdown",
   "id": "24111c3d-f64f-4f9d-9877-afa6248a3c55",
   "metadata": {},
   "source": [
    "### Filter pipelines with end user configuration"
   ]
  },
  {
   "cell_type": "markdown",
   "id": "048f8642-c102-4ff5-948c-ed6ab6a82f0f",
   "metadata": {},
   "source": [
    "The goal in creation of filter pipelines in AFwizard is to provide pipelines that are on the one hand specialized to a given terrain type and on the other hand generalize well to other datasets of similar terrain. In order to achieve this it is sometimes necessary to define some configuration values that are meant to be finetuned by the end user. We can do by clicking the <i class=\"fas fa-sitemap\"></i> symbol next to a parameter. Like in batch processing, a flyout opens where we can enter values, a display name for the parameter and a description. Values can either be a comma-separated list of values or a single range of parameters with a `:`. These parameters are displayed to the end user when selecting a fitting filter pipeline as described in [Selecting a filter pipeline for a dataset](selection.ipynb). This end user configuration interface can also be manually invoked by using the filter pipeline's `execute_interactive` method:"
   ]
  },
  {
   "cell_type": "code",
   "execution_count": null,
   "id": "e3096af0-4b75-42b2-bbdd-c386118f625b",
   "metadata": {},
   "outputs": [],
   "source": [
    "tuned = pipeline.execute_interactive(dataset)"
   ]
  },
  {
   "cell_type": "markdown",
   "id": "06e4e2f1-de83-48a8-b2a2-26a2fb268f14",
   "metadata": {},
   "source": [
    "### Applying filter pipelines to data"
   ]
  },
  {
   "cell_type": "markdown",
   "id": "512c5d10-3f6d-4332-ad5f-fc98d155657f",
   "metadata": {},
   "source": [
    "Pipeline objects can also be used to manipulate data sets by applying the ground point filtering algorithms in a non-interactive fashion. This is one of the core tasks of the `adaptivefiltering` library, but this will rarely be done in this manual fashion, as we will provide additional interfaces for (locally adaptive) application of filter pipelines:"
   ]
  },
  {
   "cell_type": "code",
   "execution_count": null,
   "id": "802fba4c-44bb-4b83-89b9-3b378a28b71e",
   "metadata": {},
   "outputs": [],
   "source": [
    "filtered = pipeline.execute(dataset)"
   ]
  },
  {
   "cell_type": "markdown",
   "id": "e7526e9c-9cf0-4369-8fa1-a40bee16c2cb",
   "metadata": {},
   "source": [
    "The returned object is a dataset object in itself that can again be treated like described in [Working with datasets](datasets.ipynb):"
   ]
  },
  {
   "cell_type": "code",
   "execution_count": null,
   "id": "f7adecf5-aeb3-4855-a7ae-48309c8132c1",
   "metadata": {},
   "outputs": [],
   "source": [
    "filtered.show_interactive()"
   ]
  }
 ],
 "metadata": {
  "kernelspec": {
   "display_name": "Python 3",
   "language": "python",
   "name": "python3"
  },
  "language_info": {
   "codemirror_mode": {
    "name": "ipython",
    "version": 3
   },
   "file_extension": ".py",
   "mimetype": "text/x-python",
   "name": "python",
   "nbconvert_exporter": "python",
   "pygments_lexer": "ipython3",
   "version": "3.9.10"
  }
 },
 "nbformat": 4,
 "nbformat_minor": 5
}
